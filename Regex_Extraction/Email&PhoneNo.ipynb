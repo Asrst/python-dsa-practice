{
 "cells": [
  {
   "cell_type": "code",
   "execution_count": 1,
   "metadata": {},
   "outputs": [],
   "source": [
    "import pandas as pd\n",
    "import numpy as np\n",
    "import re\n",
    "import os"
   ]
  },
  {
   "cell_type": "code",
   "execution_count": 2,
   "metadata": {},
   "outputs": [
    {
     "data": {
      "text/plain": [
       "((49, 13),\n",
       " Index(['first_name', 'last_name', 'company_name', 'address', 'city', 'county',\n",
       "        'state', 'zip', 'phone1', 'phone', 'email', 'subject', 'Email Body'],\n",
       "       dtype='object'))"
      ]
     },
     "execution_count": 2,
     "metadata": {},
     "output_type": "execute_result"
    }
   ],
   "source": [
    "df = pd.read_csv('email_data.csv')\n",
    "df.shape, df.columns"
   ]
  },
  {
   "cell_type": "code",
   "execution_count": 3,
   "metadata": {},
   "outputs": [],
   "source": [
    "def extract_email(s):\n",
    "    \"\"\"\n",
    "    finds & extracts all emails having @ or [at] \n",
    "    \"\"\"\n",
    "    email_regex = r\"([\\w._-]+(\\[at\\]|\\@|\\s?\\[at\\]\\s?)[\\w0-9._-]+\\.[\\w0-9_-]+)\"\n",
    "    result = re.findall(email_regex, s)\n",
    "    return result\n",
    "    \n",
    "def extract_phone(s):\n",
    "    \"\"\"\n",
    "    finds & extracts all phones in given string having @ or [at] \n",
    "    \"\"\"\n",
    "    phone_regex = r\"[\\+\\(]?[1-9][0-9 .\\-\\(\\)]{8,}[0-9]\"\n",
    "    result = re.findall(phone_regex, s)\n",
    "    return result"
   ]
  },
  {
   "cell_type": "code",
   "execution_count": 5,
   "metadata": {},
   "outputs": [],
   "source": [
    "emails = df['Email Body'].apply(lambda x: extract_phone(x))\n",
    "# emails.to_csv('emails.csv', header = False)"
   ]
  },
  {
   "cell_type": "code",
   "execution_count": 6,
   "metadata": {},
   "outputs": [],
   "source": [
    "phones = df['Email Body'].apply(lambda x: extract_phone(x))\n",
    "# phones.to_csv('phones.csv', header = False)"
   ]
  },
  {
   "cell_type": "code",
   "execution_count": 7,
   "metadata": {},
   "outputs": [],
   "source": [
    "# def generate_emails(df):\n",
    "#     \"\"\"\n",
    "#     iters over a dataframe & makes emails in a template\n",
    "#     \"\"\"\n",
    "#     for index, row in df.iterrows():\n",
    "#         print('\\nEmail to:', row['email'])\n",
    "#         print(\"Subject:\", row['subject'])\n",
    "#         print(\"\\nBody:\", row['Email Body'])\n",
    "#         print('\\nThanks,')\n",
    "#         print(row['first_name'], row['last_name'])\n",
    "#     return"
   ]
  },
  {
   "cell_type": "code",
   "execution_count": null,
   "metadata": {},
   "outputs": [],
   "source": []
  }
 ],
 "metadata": {
  "kernelspec": {
   "display_name": "Python 3",
   "language": "python",
   "name": "python3"
  },
  "language_info": {
   "name": "python",
   "version": "3.10.6 (main, Nov 14 2022, 16:10:14) [GCC 11.3.0]"
  },
  "vscode": {
   "interpreter": {
    "hash": "916dbcbb3f70747c44a77c7bcd40155683ae19c65e1c03b4aa3499c5328201f1"
   }
  }
 },
 "nbformat": 4,
 "nbformat_minor": 2
}

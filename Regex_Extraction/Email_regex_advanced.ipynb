{
 "cells": [
  {
   "cell_type": "code",
   "execution_count": 1,
   "metadata": {},
   "outputs": [],
   "source": [
    "import re\n",
    "import os\n",
    "import itertools\n",
    "import dateutil\n",
    "\n",
    "\n",
    "def extract_date(query_string):\n",
    "    \n",
    "    \"\"\"\n",
    "    Args:\n",
    "    ---------\n",
    "    query_string: str\n",
    "    \n",
    "    \n",
    "    Returns: str\n",
    "    ---------\n",
    "    The function extracts one of the following datetime formats if found.\n",
    "    # year-month-day\n",
    "    # day-month-year\n",
    "    # day-textmonth-year\n",
    "    # textmonth-day-year\n",
    "    # year-textmonth-day\n",
    "    # year-day-textmonth\n",
    "    \n",
    "    \"\"\"\n",
    "    \n",
    "    extracts = []\n",
    "    \n",
    "    date_extracted = \"\"\n",
    "    \n",
    "    day_num = '\\d{1,2}'\n",
    "    month_num = '\\d{1,2}'\n",
    "    year_num = '\\d{2,4}'\n",
    "    btwn = '[,-/.]{0,1}|\\s+|[,-/.]{0,1}\\s+'\n",
    "    month_text = 'jan(?:uary)?|feb(?:ruary)?|mar(?:ch)?|apr(?:il)?|may|jun(?:e)?|jul(?:y)?|aug(?:ust)?|sep(?:tember)?|oct(?:ober)?|nov(?:ember)?|dec(?:ember)?'\n",
    " \n",
    "    combinations = {1:(day_num, month_num, year_num), 2:(day_num, month_text, year_num)}\n",
    "    \n",
    "    for k in combinations:\n",
    "        current_combination = combinations[k]\n",
    "        current_permutations = itertools.permutations(current_combination)\n",
    "        for permutation in list(current_permutations):\n",
    "            # print(permutation)\n",
    "            date_format = f'({permutation[0]})({btwn})({permutation[1]})({btwn})({permutation[2]})'\n",
    "            # print(date_format)\n",
    "            current_pattern = str(date_format)\n",
    "            \n",
    "            extracted_pattern = re.findall(current_pattern, query_string.lower())\n",
    "            if len(extracted_pattern) < 1:\n",
    "                continue\n",
    "            else:\n",
    "                date_extracted = ''.join(extracted_pattern[0])\n",
    "                extracts.append(date_extracted)\n",
    "                \n",
    "    extracts.sort(key=len, reverse = True)\n",
    "    # print(extracts)\n",
    "\n",
    "    for string in extracts:\n",
    "        try:\n",
    "            parsed_date = dateutil.parser.parse(string)\n",
    "            # print(current_pattern)\n",
    "            return string\n",
    "        except Exception as e:\n",
    "            date_extracted = \"\"\n",
    "            continue\n",
    "    \n",
    "    return date_extracted"
   ]
  },
  {
   "cell_type": "code",
   "execution_count": 2,
   "metadata": {},
   "outputs": [
    {
     "data": {
      "text/plain": [
       "'12/20/2018'"
      ]
     },
     "execution_count": 2,
     "metadata": {},
     "output_type": "execute_result"
    }
   ],
   "source": [
    "test_str = 'Payment is due on 12/20/2018. Please pay 95 percent on or before this date.'\n",
    "extract_date(test_str)"
   ]
  },
  {
   "cell_type": "code",
   "execution_count": 3,
   "metadata": {},
   "outputs": [],
   "source": [
    "# date_forward = '[0]?[0-9]{1,2}[/.-][0]?[0-9]{1}[1-2]{0,1}[/.-]\\d{2,4}'\n",
    "# date_backward = '\\d{2,4}[/.-][0]?[0-9]{1}[1-2]{0,1}[/.-][0]?[0-9]{1,2}'"
   ]
  },
  {
   "cell_type": "code",
   "execution_count": null,
   "metadata": {},
   "outputs": [],
   "source": []
  },
  {
   "cell_type": "code",
   "execution_count": null,
   "metadata": {},
   "outputs": [],
   "source": []
  }
 ],
 "metadata": {
  "kernelspec": {
   "display_name": "Python 3",
   "language": "python",
   "name": "python3"
  },
  "language_info": {
   "codemirror_mode": {
    "name": "ipython",
    "version": 3
   },
   "file_extension": ".py",
   "mimetype": "text/x-python",
   "name": "python",
   "nbconvert_exporter": "python",
   "pygments_lexer": "ipython3",
   "version": "3.6.8"
  }
 },
 "nbformat": 4,
 "nbformat_minor": 2
}
